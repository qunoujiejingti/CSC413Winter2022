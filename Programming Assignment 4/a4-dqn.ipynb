{
  "nbformat": 4,
  "nbformat_minor": 0,
  "metadata": {
    "colab": {
      "name": "Copy of a4_dqn.ipynb",
      "provenance": [],
      "collapsed_sections": []
    },
    "kernelspec": {
      "name": "python3",
      "display_name": "Python 3"
    },
    "accelerator": "GPU"
  },
  "cells": [
    {
      "cell_type": "markdown",
      "metadata": {
        "id": "V3szwJAdaoQa"
      },
      "source": [
        "## Enable rendering OpenAI Gym environments from CoLab\n",
        "\n",
        "In this assignemnt, We will use [OpenAI Gym](https://gym.openai.com/) for rendering game envionment for our agent to play and learn. It is possible and important to visualize the game your agent is playing, even on Colab. This section imports the necessary package and functions needed to generate a video in Colab. The video processing steps credit to [here](https://colab.research.google.com/drive/1flu31ulJlgiRL1dnN2ir8wGh9p7Zij2t)."
      ]
    },
    {
      "cell_type": "code",
      "metadata": {
        "id": "M9fFfA-gb8oC",
        "colab": {
          "base_uri": "https://localhost:8080/"
        },
        "outputId": "f4e05d39-cfeb-4408-bdda-2382ed6d3681"
      },
      "source": [
        "# You will need to run this block twice to make it effective\n",
        "!apt-get update > /dev/null 2>&1\n",
        "!apt-get install cmake > /dev/null 2>&1\n",
        "!pip install --upgrade setuptools 2>&1\n",
        "!pip install ez_setup > /dev/null 2>&1\n",
        "!pip install gym[atari] > /dev/null 2>&1\n",
        "!pip install box2d-py > /dev/null 2>&1\n",
        "!pip install gym[Box_2D] > /dev/null 2>&1"
      ],
      "execution_count": 1,
      "outputs": [
        {
          "output_type": "stream",
          "name": "stdout",
          "text": [
            "Requirement already satisfied: setuptools in /usr/local/lib/python3.7/dist-packages (62.0.0)\n"
          ]
        }
      ]
    },
    {
      "cell_type": "code",
      "source": [
        "!pip install gym pyvirtualdisplay > /dev/null 2>&1\n",
        "!apt-get install -y xvfb python-opengl ffmpeg > /dev/null 2>&1"
      ],
      "metadata": {
        "id": "NE1QQOVX27dp"
      },
      "execution_count": 2,
      "outputs": []
    },
    {
      "cell_type": "markdown",
      "metadata": {
        "id": "QfTPg6uZckCm"
      },
      "source": [
        "Import openAI gym and define the functions used to show the video."
      ]
    },
    {
      "cell_type": "code",
      "metadata": {
        "id": "JLl9cs6ncAf0"
      },
      "source": [
        "import gym\n",
        "from gym.wrappers import Monitor\n",
        "import glob\n",
        "import io\n",
        "import base64\n",
        "from IPython.display import HTML\n",
        "from pyvirtualdisplay import Display\n",
        "from IPython import display as ipythondisplay\n",
        "\n",
        "display = Display(visible=0, size=(1400, 900))\n",
        "display.start()\n",
        "\n",
        "\"\"\"\n",
        "Utility functions to enable video recording of gym environment \n",
        "and displaying it.\n",
        "To enable video, just do \"env = wrap_env(env)\"\"\n",
        "\"\"\"\n",
        "\n",
        "def show_video():\n",
        "  mp4list = glob.glob('video/*.mp4')\n",
        "  if len(mp4list) > 0:\n",
        "    mp4 = mp4list[0]\n",
        "    video = io.open(mp4, 'r+b').read()\n",
        "    encoded = base64.b64encode(video)\n",
        "    ipythondisplay.display(HTML(data='''<video alt=\"test\" autoplay \n",
        "                loop controls style=\"height: 400px;\">\n",
        "                <source src=\"data:video/mp4;base64,{0}\" type=\"video/mp4\" />\n",
        "             </video>'''.format(encoded.decode('ascii'))))\n",
        "  else: \n",
        "    print(\"Could not find video\")\n",
        "    \n",
        "\n",
        "def wrap_env(env):\n",
        "  env = Monitor(env, './video', force=True)\n",
        "  return env"
      ],
      "execution_count": 3,
      "outputs": []
    },
    {
      "cell_type": "markdown",
      "metadata": {
        "id": "UHkrflTWakKd"
      },
      "source": [
        "Import other packages:\n",
        "\n",
        "We will use Pytorch for building and learning our DQN network."
      ]
    },
    {
      "cell_type": "code",
      "metadata": {
        "id": "9KvZYSl6RrzD"
      },
      "source": [
        "import torch\n",
        "from torch import nn\n",
        "import copy\n",
        "from collections import deque\n",
        "import random\n",
        "from tqdm import tqdm\n",
        "import matplotlib.pyplot as plt\n",
        "\n",
        "random.seed(42)"
      ],
      "execution_count": 4,
      "outputs": []
    },
    {
      "cell_type": "markdown",
      "metadata": {
        "id": "zrLGCk-3ditk"
      },
      "source": [
        "## Run the game with random agent."
      ]
    },
    {
      "cell_type": "code",
      "metadata": {
        "id": "ZMcGALcWeWfh",
        "colab": {
          "base_uri": "https://localhost:8080/",
          "height": 456
        },
        "outputId": "8c64d4f5-1c3d-44da-9560-cd4f62338f4f"
      },
      "source": [
        "from torch import randint\n",
        "from time import sleep\n",
        "\n",
        "env = wrap_env(gym.make('CartPole-v1'))\n",
        "reward_arr = []\n",
        "episode_count = 20\n",
        "for i in tqdm(range(episode_count)):\n",
        "    obs, done, rew = env.reset(), False, 0\n",
        "    env.render()\n",
        "    while not done:\n",
        "        A = randint(0, env.action_space.n, (1,))\n",
        "        obs, reward, done, info = env.step(A.item())\n",
        "        rew += reward\n",
        "        sleep(0.01)\n",
        "    reward_arr.append(rew)\n",
        "print(\"average reward per episode :\", sum(reward_arr) / len(reward_arr))\n",
        "env.close()\n",
        "show_video()"
      ],
      "execution_count": 5,
      "outputs": [
        {
          "output_type": "stream",
          "name": "stderr",
          "text": [
            "100%|██████████| 20/20 [00:08<00:00,  2.44it/s]"
          ]
        },
        {
          "output_type": "stream",
          "name": "stdout",
          "text": [
            "average reward per episode : 23.7\n"
          ]
        },
        {
          "output_type": "stream",
          "name": "stderr",
          "text": [
            "\n"
          ]
        },
        {
          "output_type": "display_data",
          "data": {
            "text/plain": [
              "<IPython.core.display.HTML object>"
            ],
            "text/html": [
              "<video alt=\"test\" autoplay \n",
              "                loop controls style=\"height: 400px;\">\n",
              "                <source src=\"data:video/mp4;base64,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\" type=\"video/mp4\" />\n",
              "             </video>"
            ]
          },
          "metadata": {}
        }
      ]
    },
    {
      "cell_type": "markdown",
      "metadata": {
        "id": "Ope0zHAjfXQh"
      },
      "source": [
        "The episode ends when the pole is more than 15 degrees from vertical, or the cart moves more than 2.4 units from the center. The video is short (< 1s) because the pole loses balance immediately. \n",
        "\n",
        "You can see that a random agent is having trouble balancing the CartPole, just like you. However, a difficult game for human may be very simple to a computer. Let's see how we can use DQN to train a agent. "
      ]
    },
    {
      "cell_type": "markdown",
      "metadata": {
        "id": "OjP_2jn3SFgv"
      },
      "source": [
        "## Experience Replay\n",
        "\n",
        "The technique of experience replay was first proposed in to resolve temporal correlation in the input data by mixing recent experiences as well past experiences, essentially forcing the input to become independent and identically distributed (i.i.d.). It has been shown that this greatly stabilizes\n",
        "and improves the DQN training procedure."
      ]
    },
    {
      "cell_type": "code",
      "metadata": {
        "id": "SoxW1Jlnk8mS"
      },
      "source": [
        "class ExperienceReplay(object):\n",
        "      def __init__(self, length):\n",
        "        self.experience_replay = deque(maxlen=length)\n",
        "\n",
        "      def collect(self, experience):\n",
        "        self.experience_replay.append(experience)\n",
        "        return\n",
        "\n",
        "      def sample_from_experience(self, sample_size):\n",
        "        if len(self.experience_replay) < sample_size:\n",
        "            sample_size = len(self.experience_replay)\n",
        "        sample = random.sample(self.experience_replay, sample_size)\n",
        "        state = torch.tensor([exp[0] for exp in sample]).float()\n",
        "        action = torch.tensor([exp[1] for exp in sample]).float()\n",
        "        reward = torch.tensor([exp[2] for exp in sample]).float()\n",
        "        next_state = torch.tensor([exp[3] for exp in sample]).float()\n",
        "        return state, action, reward, next_state\n"
      ],
      "execution_count": 6,
      "outputs": []
    },
    {
      "cell_type": "markdown",
      "metadata": {
        "id": "CgXwmV2im4Sx"
      },
      "source": [
        "## Build our DQN Network\n",
        "\n",
        "We will use a simple multi-layer neural network to learn the optimal actions. We will use Adam Optimizor and MSE loss for training. **Notice that the loss function and gamma is given to you in the class attribute.** "
      ]
    },
    {
      "cell_type": "code",
      "metadata": {
        "id": "Wmd1pfuRm7MQ"
      },
      "source": [
        "class DQN_Network:\n",
        "\n",
        "    def __init__(self, layer_size_list, lr, seed=1423):\n",
        "        torch.manual_seed(seed)\n",
        "        self.policy_net = self.create_network(layer_size_list)\n",
        "        self.target_net = copy.deepcopy(self.policy_net)\n",
        "  \n",
        "        self.loss_fn = torch.nn.MSELoss() # the loss function\n",
        "        self.optimizer = torch.optim.Adam(self.policy_net.parameters(), lr=lr)\n",
        "\n",
        "        self.step = 0\n",
        "        self.gamma = torch.tensor(0.95).float()\n",
        "        return\n",
        "\n",
        "    def create_network(self, layer_size_list):\n",
        "        assert len(layer_size_list) > 1\n",
        "\n",
        "        layers = []\n",
        "        for i in range(len(layer_size_list) - 1):\n",
        "            linear = nn.Linear(layer_size_list[i], layer_size_list[i + 1])\n",
        "\n",
        "            if i < len(layer_size_list) - 2:\n",
        "              activation = nn.Tanh()\n",
        "            else:\n",
        "              activation = nn.Identity()\n",
        "\n",
        "            layers += (linear, activation)\n",
        "        return nn.Sequential(*layers)\n",
        "\n",
        "    def load_pretrained_model(self, model_path):\n",
        "        self.policy_net.load_state_dict(torch.load(model_path))\n",
        "\n",
        "    def save_trained_model(self, model_path=\"cartpole-dqn.pth\"):\n",
        "        torch.save(self.policy_net.state_dict(), model_path)\n"
      ],
      "execution_count": 7,
      "outputs": []
    },
    {
      "cell_type": "markdown",
      "metadata": {
        "id": "xKVV16YctASm"
      },
      "source": [
        "## **[Your task]**: complete the function that chooses the next action\n",
        "\n",
        "Choose next action based on **$\\epsilon$-greedy**:\n",
        "\n",
        "\\begin{align}\\text{where} \\quad \\mathcal{a_{t+1}} = \\begin{cases}\n",
        "     \\text{argmax}_{a}Q(a, s)  & \\text{with probability }: 1 - \\epsilon, \\text{exploitation}\\\\\n",
        "     \\text{Uniform}\\{a_{1},...,a_{n}\\} & \\text{with probability}:   \\epsilon, \\text{exploration} \\\\\n",
        "   \\end{cases}\\end{align}"
      ]
    },
    {
      "cell_type": "code",
      "metadata": {
        "id": "iE0gVweYs8xW"
      },
      "source": [
        "def get_action(model, state, action_space_len, epsilon):\n",
        "    # We do not require gradient at this point, because this function will be used either\n",
        "    # during experience collection or during inference\n",
        "\n",
        "    with torch.no_grad():\n",
        "        Qp = model.policy_net(torch.from_numpy(state).float())\n",
        "\n",
        "        if random.uniform(0, 1) < epsilon:\n",
        "          return randint(0, action_space_len, (1,))\n",
        "        else:\n",
        "          return torch.argmax(Qp)\n",
        "\n",
        "    ## TODO: select and return action based on epsilon-greedy"
      ],
      "execution_count": 8,
      "outputs": []
    },
    {
      "cell_type": "markdown",
      "metadata": {
        "id": "iF9a5-IbazjQ"
      },
      "source": [
        "### **[Your task]**: complete the function that train the network for one step\n",
        "\n",
        "Here, you can find an ``train`` function that performs a\n",
        "single step of the optimization. \n",
        "\n",
        "For our training update rule, the loss you are trying to minimize is:\n",
        "\n",
        "\\begin{align}\\text{loss} = Q(s, a) - (r + \\gamma \\max_a Q(s', a))\\end{align}"
      ]
    },
    {
      "cell_type": "code",
      "metadata": {
        "id": "mtx4FAiab0Hp"
      },
      "source": [
        "def train(model, batch_size):\n",
        "    state, action, reward, next_state = memory.sample_from_experience(sample_size=batch_size)\n",
        "\n",
        "    # TODO: predict expected return of current state using main network\n",
        "    Qp = model.policy_net(state)\n",
        "    expected_return = torch.zeros(len(action))\n",
        "    for i in range(len(action)):\n",
        "      expected_return[i] = Qp[i][int(action[i])]\n",
        "    # TODO: get target return using target network\n",
        "    Qt = model.target_net(next_state)\n",
        "    target_value, _ = torch.max(Qt, dim = 1)\n",
        "    target_return = reward + model.gamma * target_value\n",
        "\n",
        "    # TODO: compute the loss\n",
        "    loss = model.loss_fn(input = expected_return,  target = target_return)\n",
        "    model.optimizer.zero_grad()\n",
        "    loss.backward(retain_graph=True)\n",
        "    model.optimizer.step()\n",
        "\n",
        "    model.step += 1\n",
        "    if model.step % 5 == 0:\n",
        "        model.target_net.load_state_dict(model.policy_net.state_dict())\n",
        "\n",
        "    return loss.item()"
      ],
      "execution_count": 9,
      "outputs": []
    },
    {
      "cell_type": "markdown",
      "metadata": {
        "id": "uskoe87Uz-Jg"
      },
      "source": [
        "### **[Your task]**: Finish the training loop\n",
        "\n",
        "In this part, you can play around with ```exp_replay_size```, ```episode```, ```epsilon``` and the \"episodo decay\" logic to train your model. **If you have done correctly, you will observe that the training time for the latter episodes is longer than the early episodes. This is because your agent is getting better and better at playing the game and thus each episode takes longer**"
      ]
    },
    {
      "cell_type": "code",
      "metadata": {
        "id": "3NfNnyD6SPpN",
        "colab": {
          "base_uri": "https://localhost:8080/"
        },
        "outputId": "c9055e30-c875-4b9b-8d34-d8031b25bf6f"
      },
      "source": [
        "# Create the model\n",
        "env = gym.make('CartPole-v0')\n",
        "input_dim = env.observation_space.shape[0]\n",
        "output_dim = env.action_space.n\n",
        "agent = DQN_Network(layer_size_list=[input_dim, 64, output_dim], lr=1e-3)\n",
        "\n",
        "# Main training loop\n",
        "losses_list, reward_list, episode_len_list, epsilon_list = [], [], [], []\n",
        "\n",
        "# TODO: try different values, it normally takes more than 6k episodes to train\n",
        "exp_replay_size = 100 # TODO\n",
        "memory = ExperienceReplay(exp_replay_size)\n",
        "episodes = 20000 # TODO\n",
        "epsilon = 1 # episilon start from 1 and decay gradually. \n",
        "\n",
        "# initiliaze experiance replay\n",
        "index = 0\n",
        "for i in range(exp_replay_size):\n",
        "    obs = env.reset()\n",
        "    done = False\n",
        "    while not done:\n",
        "        A = get_action(agent, obs, env.action_space.n, epsilon=1)\n",
        "        obs_next, reward, done, _ = env.step(A.item())\n",
        "        memory.collect([obs, A.item(), reward, obs_next])\n",
        "        obs = obs_next\n",
        "        index += 1\n",
        "        if index > exp_replay_size:\n",
        "            break\n",
        "\n",
        "index = 128\n",
        "for i in tqdm(range(episodes)):\n",
        "    obs, done, losses, ep_len, rew = env.reset(), False, 0, 0, 0\n",
        "    while not done:\n",
        "        ep_len += 1\n",
        "        A = get_action(agent, obs, env.action_space.n, epsilon)\n",
        "        obs_next, reward, done, _ = env.step(A.item())\n",
        "        memory.collect([obs, A.item(), reward, obs_next])\n",
        "\n",
        "        obs = obs_next\n",
        "        rew += reward\n",
        "        index += 1\n",
        "\n",
        "        if index > 128:\n",
        "            index = 0\n",
        "            for j in range(4):\n",
        "                loss = train(agent, batch_size=16)\n",
        "                losses += loss\n",
        "    \n",
        "    # TODO: add epsilon decay rule here!\n",
        "    if i < 18000:\n",
        "      epsilon =  1 - (0.8/18000) * i\n",
        "    else:\n",
        "      epsilon = 0.2\n",
        "\n",
        "\n",
        "    losses_list.append(losses / ep_len), reward_list.append(rew)\n",
        "    episode_len_list.append(ep_len), epsilon_list.append(epsilon)\n",
        "\n",
        "print(\"Saving trained model\")\n",
        "agent.save_trained_model(\"cartpole-dqn.pth\")"
      ],
      "execution_count": 31,
      "outputs": [
        {
          "output_type": "stream",
          "name": "stderr",
          "text": [
            "100%|██████████| 20000/20000 [02:50<00:00, 117.25it/s]"
          ]
        },
        {
          "output_type": "stream",
          "name": "stdout",
          "text": [
            "Saving trained model\n"
          ]
        },
        {
          "output_type": "stream",
          "name": "stderr",
          "text": [
            "\n"
          ]
        }
      ]
    },
    {
      "cell_type": "markdown",
      "metadata": {
        "id": "CCow7jNXf5YT"
      },
      "source": [
        "## Last Step: evaluate your trained model! **Make sure to include your visualizations (plot+video) in the notebook for your submission!**\n",
        "\n",
        "First we can plot the reward vs. episode. **If you have done correctly, you should see the reward can stabilize at 200 in later episodes**\\"
      ]
    },
    {
      "cell_type": "code",
      "metadata": {
        "id": "-Hy_FP7yeXA4",
        "colab": {
          "base_uri": "https://localhost:8080/",
          "height": 295
        },
        "outputId": "bd2feb1d-0b7d-470f-bf94-37c45487a1b2"
      },
      "source": [
        "def plot_reward(r):\n",
        "    plt.figure(2)\n",
        "    plt.clf()\n",
        "    plt.title('Result')\n",
        "    plt.xlabel('Episode')\n",
        "    plt.ylabel('Reward')\n",
        "    plt.plot(r)\n",
        "\n",
        "plot_reward(reward_list)"
      ],
      "execution_count": 32,
      "outputs": [
        {
          "output_type": "display_data",
          "data": {
            "text/plain": [
              "<Figure size 432x288 with 1 Axes>"
            ],
            "image/png": "[encoded data removed]"
          },
          "metadata": {
            "needs_background": "light"
          }
        }
      ]
    },
    {
      "cell_type": "markdown",
      "source": [
        "Next let check out how well your agent plays the game. **If you have done correctly, you should see a relatively longer video (> 3~4s) with a self-balancing pole.**"
      ],
      "metadata": {
        "id": "EixOpGakoyi4"
      }
    },
    {
      "cell_type": "code",
      "metadata": {
        "id": "EMEivKldTGVG",
        "colab": {
          "base_uri": "https://localhost:8080/",
          "height": 456
        },
        "outputId": "ec3c5110-6820-4b52-da8a-69356fca3307"
      },
      "source": [
        "env = wrap_env(gym.make('CartPole-v1'))\n",
        "\n",
        "input_dim = env.observation_space.shape[0]\n",
        "output_dim = env.action_space.n\n",
        "model_validate = DQN_Network(layer_size_list=[input_dim, 64, output_dim], lr=1e-3)\n",
        "model_validate.load_pretrained_model(\"cartpole-dqn.pth\")\n",
        "\n",
        "reward_arr = []\n",
        "for i in tqdm(range(200)):\n",
        "    obs, done, rew = env.reset(), False, 0\n",
        "    env.render()\n",
        "    while not done:\n",
        "        A = get_action(model_validate, obs, env.action_space.n, epsilon=0)\n",
        "        obs, reward, done, info = env.step(A.item())\n",
        "        rew += reward\n",
        "        # sleep(0.01)\n",
        "\n",
        "    reward_arr.append(rew)\n",
        "print(\"average reward per episode :\", sum(reward_arr) / len(reward_arr))\n",
        "env.close()\n",
        "show_video()"
      ],
      "execution_count": 33,
      "outputs": [
        {
          "output_type": "stream",
          "name": "stderr",
          "text": [
            "100%|██████████| 200/200 [00:15<00:00, 13.02it/s]"
          ]
        },
        {
          "output_type": "stream",
          "name": "stdout",
          "text": [
            "average reward per episode : 212.785\n"
          ]
        },
        {
          "output_type": "stream",
          "name": "stderr",
          "text": [
            "\n"
          ]
        },
        {
          "output_type": "display_data",
          "data": {
            "text/plain": [
              "<IPython.core.display.HTML object>"
            ],
            "text/html": [
              "<video alt=\"test\" autoplay \n",
              "                loop controls style=\"height: 400px;\">\n",
              "                <source src=\"data:video/mp4;base64,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\" type=\"video/mp4\" />\n",
              "             </video>"
            ]
          },
          "metadata": {}
        }
      ]
    },
    {
      "cell_type": "code",
      "metadata": {
        "id": "VTAa6RAWTKZJ"
      },
      "source": [
        ""
      ],
      "execution_count": null,
      "outputs": []
    }
  ]
}